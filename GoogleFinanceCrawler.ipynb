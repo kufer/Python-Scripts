{
 "cells": [
  {
   "cell_type": "code",
   "execution_count": 4,
   "metadata": {
    "collapsed": false
   },
   "outputs": [
    {
     "name": "stdout",
     "output_type": "stream",
     "text": [
      "The sector that has moved the most is Utilities -3.51%.\n",
      "AES Corp gained the most (2.43%) while South Jersey Industries, the biggest loser, lost -8.53%\n"
     ]
    }
   ],
   "source": [
    "import urllib.parse, urllib.request\n",
    "from bs4 import BeautifulSoup as bs\n",
    "\n",
    "url = \"http://www.google.com/finance\"        \n",
    "\n",
    "#open url and get its content\n",
    "try:        \n",
    "    htmltext = urllib.request.urlopen(url).read()\n",
    "except Exception as ex:\n",
    "    print(ex)\n",
    "\n",
    "#declare data structures\n",
    "sector = []\n",
    "delta = []\n",
    "movers = []\n",
    "movers_change = []\n",
    "i = 0\n",
    "j = 0\n",
    "\n",
    "#find table, then find <td> tags by style. \n",
    "#Based on style add the sector and its change to the respective data strucuture\n",
    "soup = bs(htmltext)\n",
    "table = soup.find(\"div\", {\"id\" : \"secperf\"}).find(\"table\")\n",
    "for tr in table.findAll(\"tr\"):\n",
    "    for td in tr.findAll(\"td\", {\"style\" : \"text-align:left; padding-right:0.5em\"}):\n",
    "        if(td.text.strip() in 'Sector'): #we don't want the Sector in our list\n",
    "            continue\n",
    "        sector.append(td.text.strip())\n",
    "    for td in tr.findAll(\"td\", {\"style\" : \"width:20%; padding-right:1em\"}):\n",
    "        delta.append(td.text.strip())\n",
    "\n",
    "composite = (list(zip(delta, sector))) #zip the two lists to create a list that contains sector and change\n",
    "max_delta = abs(float((max(composite, key = lambda item:item[0])[0]).strip(\"%\"))) #find absolute max change\n",
    "min_delta = abs(float((min(composite, key = lambda item:item[0])[0]).strip(\"%\"))) #find absolute min change\n",
    "\n",
    "if max_delta > min_delta: #check for the absolute maximum and set that as sector of interest\n",
    "    delta_sector = max(composite, key = lambda item:item[0])\n",
    "else:\n",
    "    delta_sector = min(composite, key = lambda item:item[0])\n",
    "\n",
    "for link in table.findAll('a', href = True, text = delta_sector[1]): #find the url of the sector\n",
    "    childUrl = link['href']\n",
    "   \n",
    "new_url = urllib.parse.urljoin(url, childUrl) #join relative url to parent url\n",
    "\n",
    "try: #open url and get its HTML       \n",
    "    htmltext = urllib.request.urlopen(new_url).read()\n",
    "except Exception as ex:\n",
    "    print(ex)\n",
    "   \n",
    "soup = bs(htmltext)\n",
    "table = soup.find(\"table\", {\"class\" : \"topmovers\"}) #find the table topmovers\n",
    "for tr in table.findAll(\"tr\"):\n",
    "    for td in tr.findAll(\"td\"):\n",
    "        if td.find(\"a\") is not None: \n",
    "            i = i + 1\n",
    "            if i == 1 or i == 11: #find all <a> tags and store only those corresponding to biggest gainer and loser\n",
    "                movers.append(td.text.strip())\n",
    "        if td.find(\"span\") is not None:\n",
    "            j = j + 1\n",
    "            if i == 2 or i == 12: #find all <span> tags and store only those corresponding to biggest gainer and loser\n",
    "                s = td.text.strip()\n",
    "                movers_change.append(s[s.find(\"(\") + 1 : s.find(\")\")]) #extract only numbers between parenthese which is the %change\n",
    "\n",
    "movers = list(zip(movers, movers_change)) #zip the movers and changes together\n",
    "\n",
    "#print the output\n",
    "print(\"The sector that has moved the most is \" + delta_sector[1] + \" \" + delta_sector[0] + \".\")\n",
    "print(movers[0][0] + \" gained the most (\" + movers[0][1] + \") while \" + movers[1][0] + \", the biggest loser, lost \" + movers[1][1])        \n",
    "    \n",
    "        "
   ]
  },
  {
   "cell_type": "code",
   "execution_count": null,
   "metadata": {
    "collapsed": true
   },
   "outputs": [],
   "source": []
  }
 ],
 "metadata": {
  "kernelspec": {
   "display_name": "Python 3",
   "language": "python",
   "name": "python3"
  },
  "language_info": {
   "codemirror_mode": {
    "name": "ipython",
    "version": 3
   },
   "file_extension": ".py",
   "mimetype": "text/x-python",
   "name": "python",
   "nbconvert_exporter": "python",
   "pygments_lexer": "ipython3",
   "version": "3.4.3"
  }
 },
 "nbformat": 4,
 "nbformat_minor": 0
}
